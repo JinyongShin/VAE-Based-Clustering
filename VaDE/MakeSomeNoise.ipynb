{
 "cells": [
  {
   "cell_type": "markdown",
   "id": "04652b34",
   "metadata": {},
   "source": [
    "# DataLoader"
   ]
  },
  {
   "cell_type": "code",
   "execution_count": 1,
   "id": "3aaa57b7",
   "metadata": {},
   "outputs": [],
   "source": [
    "import h5py\n",
    "import numpy as np"
   ]
  },
  {
   "cell_type": "code",
   "execution_count": 2,
   "id": "7b1bb0cf",
   "metadata": {},
   "outputs": [],
   "source": [
    "dataList=['../data/normal_dataset.h5','../data/Anomaly_dataset.h5']"
   ]
  },
  {
   "cell_type": "code",
   "execution_count": 3,
   "id": "c3074ba0",
   "metadata": {},
   "outputs": [
    {
     "name": "stdout",
     "output_type": "stream",
     "text": [
      "Loading data from  ../data/normal_dataset.h5\n",
      "Loading data from  ../data/Anomaly_dataset.h5\n",
      "input image shape :  (72100, 1, 28, 28)\n",
      "input label shape :  (72100,)\n"
     ]
    }
   ],
   "source": [
    "imageList=[]\n",
    "labelList=[]\n",
    "for file_path in dataList:\n",
    "    print('Loading data from ', file_path)\n",
    "    dataset = h5py.File(file_path,'r',libver='latest',swmr=True)\n",
    "    FimageList=[]\n",
    "    FlabelList=[]\n",
    "    for gName,group in dataset.items():\n",
    "        for dName,data in group.items():\n",
    "            if dName == 'images':\n",
    "                FimageList.append(data)\n",
    "            elif dName == 'labels':\n",
    "                FlabelList.append(data)\n",
    "\n",
    "    if len(FimageList) >= 2:\n",
    "        #print(\"More than 2 gropus in File\")\n",
    "        image_concat = []\n",
    "        for i in range(0,len(FimageList)):\n",
    "            image_concat.append(FimageList[i][:])\n",
    "        imageList.append(np.concatenate(image_concat))\n",
    "        label_concat = []\n",
    "        for i in range(0,len(FlabelList)):\n",
    "            label_concat.append(FlabelList[i][:])\n",
    "        labelList.append(np.concatenate(label_concat))\n",
    "    else:\n",
    "        imageList.append(FimageList[0][:])\n",
    "        labelList.append(FlabelList[0][:])\n",
    "imageList = np.concatenate(imageList)\n",
    "labelList = np.concatenate(labelList)\n",
    "print('input image shape : ',imageList.shape)\n",
    "print('input label shape : ',labelList.shape)"
   ]
  },
  {
   "cell_type": "code",
   "execution_count": 4,
   "id": "6b88ceb4",
   "metadata": {},
   "outputs": [],
   "source": [
    "import matplotlib.pyplot as plt"
   ]
  },
  {
   "cell_type": "markdown",
   "id": "fa353339",
   "metadata": {},
   "source": [
    "# Noise (1). Salt & Pepper"
   ]
  },
  {
   "cell_type": "code",
   "execution_count": 12,
   "id": "8096d398",
   "metadata": {},
   "outputs": [
    {
     "data": {
      "text/plain": [
       "<matplotlib.image.AxesImage at 0x2295e1651f0>"
      ]
     },
     "execution_count": 12,
     "metadata": {},
     "output_type": "execute_result"
    },
    {
     "data": {
      "image/png": "[encoded data removed]",
      "text/plain": [
       "<Figure size 432x288 with 1 Axes>"
      ]
     },
     "metadata": {
      "needs_background": "light"
     },
     "output_type": "display_data"
    }
   ],
   "source": [
    "testImage = imageList[0][0].copy()\n",
    "plt.imshow(testImage)"
   ]
  },
  {
   "cell_type": "code",
   "execution_count": 13,
   "id": "5469746d",
   "metadata": {},
   "outputs": [
    {
     "data": {
      "text/plain": [
       "<matplotlib.image.AxesImage at 0x2295e1c4a60>"
      ]
     },
     "execution_count": 13,
     "metadata": {},
     "output_type": "execute_result"
    },
    {
     "data": {
      "image/png": "[encoded data removed]",
      "text/plain": [
       "<Figure size 432x288 with 1 Axes>"
      ]
     },
     "metadata": {
      "needs_background": "light"
     },
     "output_type": "display_data"
    }
   ],
   "source": [
    "drop = np.arange(testImage.shape[1])\n",
    "np.random.shuffle(drop)\n",
    "sep = int(len(drop)*0.3)\n",
    "drop = drop[:sep]\n",
    "testImage[:,drop[:int(sep/2)]]=0\n",
    "testImage[:,drop[int(sep/2):]]=1\n",
    "\n",
    "plt.imshow(testImage)"
   ]
  },
  {
   "cell_type": "markdown",
   "id": "1a88bb63",
   "metadata": {},
   "source": [
    "# Noise (2). Gaussian Noise"
   ]
  },
  {
   "cell_type": "code",
   "execution_count": 14,
   "id": "8facdc3e",
   "metadata": {},
   "outputs": [
    {
     "data": {
      "text/plain": [
       "<matplotlib.image.AxesImage at 0x2295f1f14f0>"
      ]
     },
     "execution_count": 14,
     "metadata": {},
     "output_type": "execute_result"
    },
    {
     "data": {
      "image/png": "[encoded data removed]",
      "text/plain": [
       "<Figure size 432x288 with 1 Axes>"
      ]
     },
     "metadata": {
      "needs_background": "light"
     },
     "output_type": "display_data"
    }
   ],
   "source": [
    "testImage = imageList[0][0].copy()\n",
    "plt.imshow(testImage)"
   ]
  },
  {
   "cell_type": "code",
   "execution_count": 15,
   "id": "b88de83d",
   "metadata": {},
   "outputs": [
    {
     "data": {
      "text/plain": [
       "<matplotlib.image.AxesImage at 0x2295f25f2b0>"
      ]
     },
     "execution_count": 15,
     "metadata": {},
     "output_type": "execute_result"
    },
    {
     "data": {
      "image/png": "[encoded data removed]",
      "text/plain": [
       "<Figure size 432x288 with 1 Axes>"
      ]
     },
     "metadata": {
      "needs_background": "light"
     },
     "output_type": "display_data"
    }
   ],
   "source": [
    "testImage += np.random.normal(0,0.5,testImage.shape)\n",
    "plt.imshow(testImage)"
   ]
  },
  {
   "cell_type": "markdown",
   "id": "5368923a",
   "metadata": {},
   "source": [
    "# Noise (3). Masking Noise"
   ]
  },
  {
   "cell_type": "code",
   "execution_count": 16,
   "id": "3d85b2ba",
   "metadata": {},
   "outputs": [
    {
     "data": {
      "text/plain": [
       "<matplotlib.image.AxesImage at 0x2295f2c62b0>"
      ]
     },
     "execution_count": 16,
     "metadata": {},
     "output_type": "execute_result"
    },
    {
     "data": {
      "image/png": "[encoded data removed]",
      "text/plain": [
       "<Figure size 432x288 with 1 Axes>"
      ]
     },
     "metadata": {
      "needs_background": "light"
     },
     "output_type": "display_data"
    }
   ],
   "source": [
    "testImage = imageList[0][0].copy()\n",
    "plt.imshow(testImage)"
   ]
  },
  {
   "cell_type": "code",
   "execution_count": 17,
   "id": "14aae540",
   "metadata": {},
   "outputs": [
    {
     "data": {
      "text/plain": [
       "<matplotlib.image.AxesImage at 0x2295f325640>"
      ]
     },
     "execution_count": 17,
     "metadata": {},
     "output_type": "execute_result"
    },
    {
     "data": {
      "image/png": "[encoded data removed]",
      "text/plain": [
       "<Figure size 432x288 with 1 Axes>"
      ]
     },
     "metadata": {
      "needs_background": "light"
     },
     "output_type": "display_data"
    }
   ],
   "source": [
    "mask = (np.random.uniform(0,1,testImage.shape)<0.5).astype('i4')\n",
    "testImage = mask*testImage\n",
    "plt.imshow(testImage)"
   ]
  },
  {
   "cell_type": "code",
   "execution_count": null,
   "id": "4a59391e",
   "metadata": {},
   "outputs": [],
   "source": []
  },
  {
   "cell_type": "code",
   "execution_count": null,
   "id": "5dcdd4fc",
   "metadata": {},
   "outputs": [],
   "source": []
  }
 ],
 "metadata": {
  "kernelspec": {
   "display_name": "Python 3 (ipykernel)",
   "language": "python",
   "name": "python3"
  },
  "language_info": {
   "codemirror_mode": {
    "name": "ipython",
    "version": 3
   },
   "file_extension": ".py",
   "mimetype": "text/x-python",
   "name": "python",
   "nbconvert_exporter": "python",
   "pygments_lexer": "ipython3",
   "version": "3.9.7"
  }
 },
 "nbformat": 4,
 "nbformat_minor": 5
}
